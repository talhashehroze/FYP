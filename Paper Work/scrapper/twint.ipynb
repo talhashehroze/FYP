{
 "cells": [
  {
   "cell_type": "code",
   "execution_count": 80,
   "metadata": {},
   "outputs": [],
   "source": [
    "import twint\n",
    "import nest_asyncio\n",
    "nest_asyncio.apply()\n",
    "import pandas as pd\n",
    "\n",
    "df=pd.read_csv('./../../../data/twibot-22.csv')\n",
    "# c = twint.Config()\n",
    "# # c.t\n",
    "# c.Username = \"elonmusk\"\n",
    "# c.Count\n",
    "\n",
    "# c.Store_csv = True\n",
    "# c.Output = \"none.csv\"\n",
    "# df=twint.run.Search(c)\n"
   ]
  },
  {
   "cell_type": "code",
   "execution_count": null,
   "metadata": {},
   "outputs": [],
   "source": []
  },
  {
   "cell_type": "code",
   "execution_count": 81,
   "metadata": {},
   "outputs": [],
   "source": [
    "df['_id']=df['id'].map(lambda x: x[1:])"
   ]
  },
  {
   "cell_type": "code",
   "execution_count": 82,
   "metadata": {},
   "outputs": [
    {
     "data": {
      "text/html": [
       "<div>\n",
       "<style scoped>\n",
       "    .dataframe tbody tr th:only-of-type {\n",
       "        vertical-align: middle;\n",
       "    }\n",
       "\n",
       "    .dataframe tbody tr th {\n",
       "        vertical-align: top;\n",
       "    }\n",
       "\n",
       "    .dataframe thead th {\n",
       "        text-align: right;\n",
       "    }\n",
       "</style>\n",
       "<table border=\"1\" class=\"dataframe\">\n",
       "  <thead>\n",
       "    <tr style=\"text-align: right;\">\n",
       "      <th></th>\n",
       "      <th>id</th>\n",
       "      <th>label</th>\n",
       "      <th>_id</th>\n",
       "    </tr>\n",
       "  </thead>\n",
       "  <tbody>\n",
       "    <tr>\n",
       "      <th>0</th>\n",
       "      <td>u1217628182611927040</td>\n",
       "      <td>human</td>\n",
       "      <td>1217628182611927040</td>\n",
       "    </tr>\n",
       "    <tr>\n",
       "      <th>1</th>\n",
       "      <td>u2664730894</td>\n",
       "      <td>human</td>\n",
       "      <td>2664730894</td>\n",
       "    </tr>\n",
       "    <tr>\n",
       "      <th>2</th>\n",
       "      <td>u1266703520205549568</td>\n",
       "      <td>human</td>\n",
       "      <td>1266703520205549568</td>\n",
       "    </tr>\n",
       "    <tr>\n",
       "      <th>3</th>\n",
       "      <td>u1089159225148882949</td>\n",
       "      <td>human</td>\n",
       "      <td>1089159225148882949</td>\n",
       "    </tr>\n",
       "    <tr>\n",
       "      <th>4</th>\n",
       "      <td>u36741729</td>\n",
       "      <td>bot</td>\n",
       "      <td>36741729</td>\n",
       "    </tr>\n",
       "    <tr>\n",
       "      <th>...</th>\n",
       "      <td>...</td>\n",
       "      <td>...</td>\n",
       "      <td>...</td>\n",
       "    </tr>\n",
       "    <tr>\n",
       "      <th>999995</th>\n",
       "      <td>u1151138281</td>\n",
       "      <td>human</td>\n",
       "      <td>1151138281</td>\n",
       "    </tr>\n",
       "    <tr>\n",
       "      <th>999996</th>\n",
       "      <td>u1339035361</td>\n",
       "      <td>human</td>\n",
       "      <td>1339035361</td>\n",
       "    </tr>\n",
       "    <tr>\n",
       "      <th>999997</th>\n",
       "      <td>u318636852</td>\n",
       "      <td>human</td>\n",
       "      <td>318636852</td>\n",
       "    </tr>\n",
       "    <tr>\n",
       "      <th>999998</th>\n",
       "      <td>u43443354</td>\n",
       "      <td>human</td>\n",
       "      <td>43443354</td>\n",
       "    </tr>\n",
       "    <tr>\n",
       "      <th>999999</th>\n",
       "      <td>u29471345</td>\n",
       "      <td>human</td>\n",
       "      <td>29471345</td>\n",
       "    </tr>\n",
       "  </tbody>\n",
       "</table>\n",
       "<p>1000000 rows × 3 columns</p>\n",
       "</div>"
      ],
      "text/plain": [
       "                          id  label                  _id\n",
       "0       u1217628182611927040  human  1217628182611927040\n",
       "1                u2664730894  human           2664730894\n",
       "2       u1266703520205549568  human  1266703520205549568\n",
       "3       u1089159225148882949  human  1089159225148882949\n",
       "4                  u36741729    bot             36741729\n",
       "...                      ...    ...                  ...\n",
       "999995           u1151138281  human           1151138281\n",
       "999996           u1339035361  human           1339035361\n",
       "999997            u318636852  human            318636852\n",
       "999998             u43443354  human             43443354\n",
       "999999             u29471345  human             29471345\n",
       "\n",
       "[1000000 rows x 3 columns]"
      ]
     },
     "execution_count": 82,
     "metadata": {},
     "output_type": "execute_result"
    }
   ],
   "source": [
    "df"
   ]
  },
  {
   "cell_type": "code",
   "execution_count": 104,
   "metadata": {},
   "outputs": [
    {
     "name": "stdout",
     "output_type": "stream",
     "text": [
      "848975226\n"
     ]
    },
    {
     "ename": "TypeError",
     "evalue": "user.__init__() takes 1 positional argument but 2 were given",
     "output_type": "error",
     "traceback": [
      "\u001b[0;31m---------------------------------------------------------------------------\u001b[0m",
      "\u001b[0;31mTypeError\u001b[0m                                 Traceback (most recent call last)",
      "Cell \u001b[0;32mIn [104], line 7\u001b[0m\n\u001b[1;32m      3\u001b[0m \u001b[39m# c.Lookup=True\u001b[39;00m\n\u001b[1;32m      4\u001b[0m \u001b[39m# c.Pandas = True\u001b[39;00m\n\u001b[1;32m      5\u001b[0m \u001b[39m# twint.run.Followers(t)\u001b[39;00m\n\u001b[1;32m      6\u001b[0m \u001b[39mprint\u001b[39m(df[\u001b[39m'\u001b[39m\u001b[39m_id\u001b[39m\u001b[39m'\u001b[39m][\u001b[39m11\u001b[39m])\n\u001b[0;32m----> 7\u001b[0m twint\u001b[39m.\u001b[39;49muser\u001b[39m.\u001b[39;49muser(c)\n",
      "\u001b[0;31mTypeError\u001b[0m: user.__init__() takes 1 positional argument but 2 were given"
     ]
    }
   ],
   "source": [
    "c = twint.Config()\n",
    "c.User_id=df['_id'][1121]\n",
    "# c.Lookup=True\n",
    "# c.Pandas = True\n",
    "# twint.run.Followers(t)\n",
    "print(df['_id'][11])\n",
    "twint.user.User('ur=du')\n"
   ]
  },
  {
   "cell_type": "code",
   "execution_count": null,
   "metadata": {},
   "outputs": [],
   "source": [
    "import snscrape as snscrape\n",
    "val = val = snscrape.modules.twitter.TwitterUserScraper(779266494270173187)\n",
    "\n",
    "\n",
    "df['data']=df['_id'].map(lambda x: snscrape.modules.twitter.TwitterUserScraper(x))"
   ]
  }
 ],
 "metadata": {
  "kernelspec": {
   "display_name": "Python 3",
   "language": "python",
   "name": "python3"
  },
  "language_info": {
   "codemirror_mode": {
    "name": "ipython",
    "version": 3
   },
   "file_extension": ".py",
   "mimetype": "text/x-python",
   "name": "python",
   "nbconvert_exporter": "python",
   "pygments_lexer": "ipython3",
   "version": "3.10.6"
  },
  "orig_nbformat": 4,
  "vscode": {
   "interpreter": {
    "hash": "916dbcbb3f70747c44a77c7bcd40155683ae19c65e1c03b4aa3499c5328201f1"
   }
  }
 },
 "nbformat": 4,
 "nbformat_minor": 2
}
