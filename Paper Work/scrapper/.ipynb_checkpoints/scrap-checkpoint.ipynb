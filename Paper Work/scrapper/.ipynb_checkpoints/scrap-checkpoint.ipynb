{
 "cells": [
  {
   "cell_type": "code",
   "execution_count": 5,
   "metadata": {},
   "outputs": [
    {
     "name": "stdout",
     "output_type": "stream",
     "text": [
      "https://twitter.com/cTalhaAhmad/status/1601272428394876932\n",
      "https://twitter.com/cTalhaAhmad/status/1601268445839908866\n",
      "https://twitter.com/cTalhaAhmad/status/1598413369475825667\n",
      "https://twitter.com/cTalhaAhmad/status/1581659520795017218\n",
      "https://twitter.com/cTalhaAhmad/status/1579820863456542722\n",
      "https://twitter.com/cTalhaAhmad/status/1567442445658357760\n",
      "https://twitter.com/cTalhaAhmad/status/1560603777236930562\n"
     ]
    }
   ],
   "source": [
    "# importing libraries and packages\n",
    "import snscrape.modules.twitter as sntwitter\n",
    "import pandas as pd\n",
    "\n",
    "# Creating list to append tweet data\n",
    "tweets_list1 = []\n",
    "# sntwitter.t\n",
    "# val = sntwitter.TwitterUserScraper(user='779266494270173187')\n",
    "# val=sntwitter.TwitterProfileScraper(user='ctalhaahmad',i=).entity\n",
    "# print(val.__dict__)\n",
    "# Using TwitterSearchScraper to scrape data and append tweets to list\n",
    "# declare a username\n",
    "# sntwitter.\n",
    "for i, tweet in enumerate(sntwitter.TwitterSearchScraper('from:jack').get_items()):\n",
    "    if i > 1000:  # number of tweets you want to scrape\n",
    "        break\n",
    "    print(tweet)\n",
    "    # declare the attributes to be returned\n",
    "    # print(tweet)\n",
    "    # tweets_list1.append(\n",
    "    #     [tweet.date, tweet.id, tweet.content, tweet.user.username])\n",
    "\n",
    "# Creating a dataframe from the tweets list above\n",
    "# print(tweet.)\n",
    "tweets_df1 = pd.DataFrame(tweets_list1, columns=[\n",
    "                          'Datetime', 'Tweet Id', 'Text', 'Username'])\n"
   ]
  },
  {
   "cell_type": "code",
   "execution_count": 6,
   "metadata": {},
   "outputs": [
    {
     "data": {
      "text/html": [
       "<div>\n",
       "<style scoped>\n",
       "    .dataframe tbody tr th:only-of-type {\n",
       "        vertical-align: middle;\n",
       "    }\n",
       "\n",
       "    .dataframe tbody tr th {\n",
       "        vertical-align: top;\n",
       "    }\n",
       "\n",
       "    .dataframe thead th {\n",
       "        text-align: right;\n",
       "    }\n",
       "</style>\n",
       "<table border=\"1\" class=\"dataframe\">\n",
       "  <thead>\n",
       "    <tr style=\"text-align: right;\">\n",
       "      <th></th>\n",
       "      <th>Datetime</th>\n",
       "      <th>Tweet Id</th>\n",
       "      <th>Text</th>\n",
       "      <th>Username</th>\n",
       "    </tr>\n",
       "  </thead>\n",
       "  <tbody>\n",
       "  </tbody>\n",
       "</table>\n",
       "</div>"
      ],
      "text/plain": [
       "Empty DataFrame\n",
       "Columns: [Datetime, Tweet Id, Text, Username]\n",
       "Index: []"
      ]
     },
     "execution_count": 6,
     "metadata": {},
     "output_type": "execute_result"
    }
   ],
   "source": [
    "tweets_df1"
   ]
  }
 ],
 "metadata": {
  "kernelspec": {
   "display_name": "Python 3 (ipykernel)",
   "language": "python",
   "name": "python3"
  },
  "language_info": {
   "codemirror_mode": {
    "name": "ipython",
    "version": 3
   },
   "file_extension": ".py",
   "mimetype": "text/x-python",
   "name": "python",
   "nbconvert_exporter": "python",
   "pygments_lexer": "ipython3",
   "version": "3.10.6"
  },
  "vscode": {
   "interpreter": {
    "hash": "916dbcbb3f70747c44a77c7bcd40155683ae19c65e1c03b4aa3499c5328201f1"
   }
  }
 },
 "nbformat": 4,
 "nbformat_minor": 2
}
