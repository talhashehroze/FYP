{
 "cells": [
  {
   "cell_type": "code",
   "execution_count": 4,
   "metadata": {},
   "outputs": [
    {
     "name": "stdout",
     "output_type": "stream",
     "text": [
      "[]\n"
     ]
    }
   ],
   "source": [
    "# import snscrape.modules.twitter as sntwitter\n",
    "\n",
    "# def get_trending_keywords(country_code):\n",
    "#     trends = []\n",
    "#     for trend in sntwitter.Trend.get_place_trends(country_code):\n",
    "#         trends.append(trend.name)\n",
    "#     return trends\n",
    "\n",
    "# # Example usage for getting trending keywords in the United States (WOEID: 23424977)a\n",
    "# trending_keywords = get_trending_keywords(23424977)\n",
    "# print(trending_keywords)\n",
    "\n",
    "\n",
    "# import requests\n",
    "# from bs4 import BeautifulSoup\n",
    "\n",
    "# def get_trending_keywords():\n",
    "#     url = \"https://twitter.com/i/trends\"\n",
    "#     response = requests.get(url)\n",
    "#     soup = BeautifulSoup(response.text, \"html.parser\")\n",
    "#     trends = soup.select(\".trend-name\")\n",
    "#     trending_keywords = [trend.text for trend in trends]\n",
    "#     return trending_keywords\n",
    "\n",
    "# # Example usage\n",
    "# trending_keywords = get_trending_keywords()\n",
    "# print(trending_keywords)\n"
   ]
  }
 ],
 "metadata": {
  "kernelspec": {
   "display_name": "Python 3",
   "language": "python",
   "name": "python3"
  },
  "language_info": {
   "codemirror_mode": {
    "name": "ipython",
    "version": 3
   },
   "file_extension": ".py",
   "mimetype": "text/x-python",
   "name": "python",
   "nbconvert_exporter": "python",
   "pygments_lexer": "ipython3",
   "version": "3.11.3"
  }
 },
 "nbformat": 4,
 "nbformat_minor": 5
}
