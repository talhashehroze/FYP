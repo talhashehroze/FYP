{
  "cells": [
    {
      "cell_type": "code",
      "execution_count": null,
      "metadata": {},
      "outputs": [],
      "source": [
        "import snscrape.modules.twitter as sntwitter\n",
        "import pandas as pd\n"
      ]
    },
    {
      "cell_type": "code",
      "execution_count": null,
      "metadata": {},
      "outputs": [],
      "source": [
        "hashtag = \"#SupremeCourt\"\n",
        "num_tweets = 20\n"
      ]
    },
    {
      "cell_type": "code",
      "execution_count": null,
      "metadata": {},
      "outputs": [],
      "source": [
        "tweets_list = []\n"
      ]
    },
    {
      "cell_type": "code",
      "execution_count": null,
      "metadata": {},
      "outputs": [],
      "source": [
        "for i, tweet in enumerate(sntwitter.TwitterSearchScraper(hashtag + ' lang:en').get_items()):\n",
        "    if i >= num_tweets:\n",
        "        break\n",
        "    tweets_list.append([tweet.id, tweet.conversationId, tweet.date, tweet.user.id, tweet.user.username, \n",
        "                        tweet.user.displayname, tweet.place, tweet.rawContent, tweet.lang, tweet.mentionedUsers,\n",
        "                       tweet.links, tweet.media, tweet.replyCount, tweet.retweetCount, \n",
        "                       tweet.likeCount, tweet.hashtags, tweet.cashtags, tweet.source, tweet.retweetedTweet, \n",
        "                       tweet.quotedTweet, tweet.inReplyToUser,tweet.inReplyToTweetId, tweet.viewCount])\n"
      ]
    },
    {
      "cell_type": "code",
      "execution_count": null,
      "metadata": {},
      "outputs": [],
      "source": [
        "tweets_df = pd.DataFrame(tweets_list, columns=['id', 'conversation_id', 'date','user_id', 'username', \n",
        "                                               'name', 'place', 'tweet', 'language', 'mentions',\n",
        "                                               'urls', 'photos', 'replies_count', 'retweets_count', \n",
        "                                               'likes_count','hashtags', 'cashtags', 'source', 'retweet', \n",
        "                                               'quote_url','reply_to', 'reply_to_id','view_count'])\n"
      ]
    },
    {
      "cell_type": "code",
      "execution_count": null,
      "metadata": {},
      "outputs": [],
      "source": [
        "tweets_df.to_csv('custom_twitter_trend_dataset.csv', index=False)\n"
      ]
    },
    {
      "cell_type": "code",
      "execution_count": 73,
      "metadata": {},
      "outputs": [
        {
          "data": {
            "text/plain": [
              "Index(['id', 'conversation_id', 'date', 'user_id', 'username', 'name', 'place',\n",
              "       'tweet', 'language', 'mentions', 'urls', 'photos', 'replies_count',\n",
              "       'retweets_count', 'likes_count', 'hashtags', 'cashtags', 'source',\n",
              "       'retweet', 'quote_url', 'reply_to', 'reply_to_id', 'view_count',\n",
              "       'media_tweets', 'text_tweets', 'number_max_liked_tweets',\n",
              "       'max_liked_tweets', 'number_max_retweets_tweets', 'max_retweets_tweets',\n",
              "       'check_bot_human'],\n",
              "      dtype='object')"
            ]
          },
          "execution_count": 73,
          "metadata": {},
          "output_type": "execute_result"
        }
      ],
      "source": [
        "df2 = pd.read_csv('./custom_twitter_trend_dataset.csv')\n",
        "# df2['photos']\n",
        "# total_tweets = df2['photos'].sum()\n",
        "# print(total_tweets)\n",
        "\n",
        "non_media_tweets = df2['photos'].isnull().sum()\n",
        "media_tweets = num_tweets-non_media_tweets\n",
        "\n",
        "max_likedtweets_indexes = df2.nlargest(num_tweets, 'likes_count')[\n",
        "    'likes_count'].index.tolist()\n",
        "\n",
        "max_liked_tweets = df2.loc[max_likedtweets_indexes, 'tweet'].tolist()\n",
        "\n",
        "max_retweets_count_indexes = df2.nlargest(num_tweets, 'retweets_count')[\n",
        "    'likes_count'].index.tolist()\n",
        "\n",
        "max_retweets_tweets = df2.loc[max_retweets_count_indexes, 'tweet'].tolist()\n",
        "\n",
        "df2['media_tweets'] = media_tweets\n",
        "df2['text_tweets'] = non_media_tweets\n",
        "\n",
        "df2['number_max_liked_tweets'] = max_likedtweets_indexes\n",
        "df2['max_liked_tweets'] = max_liked_tweets\n",
        "\n",
        "df2['number_max_retweets_tweets'] = max_retweets_count_indexes\n",
        "df2['max_retweets_tweets'] = max_retweets_tweets\n",
        "\n",
        "check_bot_human = 'bot' # 0 - 1\n",
        "\n",
        "df2['check_bot_human'] = check_bot_human\n",
        "\n",
        "df2.columns\n",
        "\n",
        "\n"
      ]
    },
    {
      "cell_type": "code",
      "execution_count": 74,
      "metadata": {},
      "outputs": [],
      "source": [
        "selected_columns = ['username', 'check_bot_human']\n",
        "df2[selected_columns].to_csv('test.csv', index=False)\n"
      ]
    },
    {
      "cell_type": "code",
      "execution_count": 93,
      "metadata": {},
      "outputs": [
        {
          "name": "stdout",
          "output_type": "stream",
          "text": [
            "Index(['Unnamed: 0.1', 'Unnamed: 0', 'id', 'conversation_id', 'created_at',\n",
            "       'date', 'time', 'timezone', 'user_id', 'username', 'name', 'place',\n",
            "       'tweet', 'language', 'mentions', 'urls', 'photos', 'replies_count',\n",
            "       'retweets_count', 'likes_count', 'hashtags', 'cashtags', 'link',\n",
            "       'retweet', 'quote_url', 'video', 'thumbnail', 'near', 'geo', 'source',\n",
            "       'user_rt_id', 'user_rt', 'retweet_id', 'reply_to', 'retweet_date',\n",
            "       'translate', 'trans_src', 'trans_dest'],\n",
            "      dtype='object')\n"
          ]
        }
      ],
      "source": [
        "df = pd.read_csv('./tweets_24_notendencias_raw.csv', nrows=1)\n",
        "print(df.columns)\n"
      ]
    },
    {
      "cell_type": "code",
      "execution_count": 94,
      "metadata": {},
      "outputs": [
        {
          "name": "stdout",
          "output_type": "stream",
          "text": [
            "Index(['id', 'conversation_id', 'date', 'user_id', 'username', 'name', 'place',\n",
            "       'tweet', 'language', 'mentions', 'urls', 'photos', 'replies_count',\n",
            "       'retweets_count', 'likes_count', 'hashtags', 'cashtags', 'source',\n",
            "       'retweet', 'quote_url', 'reply_to', 'reply_to_id', 'view_count'],\n",
            "      dtype='object')\n"
          ]
        }
      ],
      "source": [
        "df = pd.read_csv('./custom_twitter_trend_dataset.csv')\n",
        "print(df.columns)\n"
      ]
    },
    {
      "cell_type": "code",
      "execution_count": null,
      "metadata": {},
      "outputs": [],
      "source": [
        "df = pd.read_csv('./tweets_24_notendencias_raw.csv', nrows=1)\n",
        "df.head()\n"
      ]
    },
    {
      "cell_type": "code",
      "execution_count": null,
      "metadata": {},
      "outputs": [],
      "source": [
        "df = pd.read_csv('./custom_twitter_trend_dataset.csv')\n",
        "df.head()\n"
      ]
    },
    {
      "cell_type": "code",
      "execution_count": 70,
      "metadata": {},
      "outputs": [
        {
          "name": "stdout",
          "output_type": "stream",
          "text": [
            "{\"id\":{\"0\":1641098280523243520,\"1\":1641098241352560641,\"2\":1641098229608529920,\"3\":1641098161191002113,\"4\":1641097897935511553,\"5\":1641097800229199878,\"6\":1641097724530683904,\"7\":1641097706478133248,\"8\":1641097613368778753,\"9\":1641097540786348043,\"10\":1641097381495345152,\"11\":1641097243045289986,\"12\":1641097219104284674,\"13\":1641097180424413184,\"14\":1641097171758923778,\"15\":1641096844661997572,\"16\":1641096679133675523,\"17\":1641096410652082176,\"18\":1641096187221532673,\"19\":1641095627751735302},\"conversation_id\":{\"0\":1641098280523243520,\"1\":1641098241352560641,\"2\":1641098229608529920,\"3\":1641098161191002113,\"4\":1641097897935511553,\"5\":1641097800229199878,\"6\":1641097724530683904,\"7\":1641097706478133248,\"8\":1641097613368778753,\"9\":1641097540786348043,\"10\":1641097381495345152,\"11\":1641097243045289986,\"12\":1641097219104284674,\"13\":1641097180424413184,\"14\":1641097171758923778,\"15\":1641096844661997572,\"16\":1641096679133675523,\"17\":1641096410652082176,\"18\":1641096187221532673,\"19\":1641095627751735302},\"date\":{\"0\":\"2023-03-29 15:21:34+00:00\",\"1\":\"2023-03-29 15:21:25+00:00\",\"2\":\"2023-03-29 15:21:22+00:00\",\"3\":\"2023-03-29 15:21:06+00:00\",\"4\":\"2023-03-29 15:20:03+00:00\",\"5\":\"2023-03-29 15:19:40+00:00\",\"6\":\"2023-03-29 15:19:22+00:00\",\"7\":\"2023-03-29 15:19:18+00:00\",\"8\":\"2023-03-29 15:18:55+00:00\",\"9\":\"2023-03-29 15:18:38+00:00\",\"10\":\"2023-03-29 15:18:00+00:00\",\"11\":\"2023-03-29 15:17:27+00:00\",\"12\":\"2023-03-29 15:17:21+00:00\",\"13\":\"2023-03-29 15:17:12+00:00\",\"14\":\"2023-03-29 15:17:10+00:00\",\"15\":\"2023-03-29 15:15:52+00:00\",\"16\":\"2023-03-29 15:15:13+00:00\",\"17\":\"2023-03-29 15:14:09+00:00\",\"18\":\"2023-03-29 15:13:15+00:00\",\"19\":\"2023-03-29 15:11:02+00:00\"},\"user_id\":{\"0\":915539787293118465,\"1\":1481495562088325120,\"2\":626591530,\"3\":1512681763625185282,\"4\":988276280,\"5\":87649080,\"6\":2536880725,\"7\":554753526,\"8\":897941129764773888,\"9\":1222143952897421312,\"10\":3638215945,\"11\":1054671607313166336,\"12\":1625102535852695552,\"13\":829729162562764800,\"14\":991704215503429633,\"15\":1111388952571842560,\"16\":20526671,\"17\":298053277,\"18\":1541343108889296896,\"19\":897941129764773888},\"username\":{\"0\":\"princess_ara__\",\"1\":\"Realsamosky\",\"2\":\"montero4emirate\",\"3\":\"ObioOluebube\",\"4\":\"ptifamily\",\"5\":\"DreyfusLawFirm\",\"6\":\"OjhaaRajesh\",\"7\":\"qas_hayat\",\"8\":\"BlufCrazycomic\",\"9\":\"DrHamtab\",\"10\":\"MirrorNow\",\"11\":\"Standard_ngr\",\"12\":\"skybabym\",\"13\":\"apricot5_it\",\"14\":\"zahir_jafri\",\"15\":\"PiNewsUpdates\",\"16\":\"Clermont1\",\"17\":\"KenDicci1\",\"18\":\"ChocnewsC\",\"19\":\"BlufCrazycomic\"},\"name\":{\"0\":\"Princess of Ara\",\"1\":\"Gbadebo Rhodes-Vivour fans\",\"2\":\"Jemmasus \\ud83d\\udc99\",\"3\":\"Obio Oluebube\",\"4\":\"PTI Family\",\"5\":\"Dreyfus & associ\\u00e9s\",\"6\":\"Rajesh ojha\",\"7\":\"Q!\",\"8\":\"Mc Bluf\",\"9\":\"Dr Alimi Fawaz\",\"10\":\"Mirror Now\",\"11\":\"Standard Nigeria\\ud83c\\udf0d\\ud83c\\udf0e\\ud83d\\uddde\\ufe0f\\ud83d\\uddde\\ufe0f\",\"12\":\"Helen\",\"13\":\"Hussain\",\"14\":\"zahirjafri\",\"15\":\"PiNewsUpdates \\u03c0\\ud83c\\udfac\\ud83c\\udf99\\ufe0f\",\"16\":\"Blue State Blockchain Bulldog \\ud83d\\udc8e Nelson Wells\",\"17\":\"Ken Ni\",\"18\":\"chocnews.com1\",\"19\":\"Mc Bluf\"},\"place\":{\"0\":null,\"1\":null,\"2\":null,\"3\":null,\"4\":null,\"5\":null,\"6\":null,\"7\":null,\"8\":null,\"9\":null,\"10\":null,\"11\":null,\"12\":null,\"13\":null,\"14\":null,\"15\":null,\"16\":null,\"17\":null,\"18\":null,\"19\":null},\"tweet\":{\"0\":\"Live broadcasts of the court proceeding in Nigeria for Peter Obi petition. \\nClick to watch \\ud83d\\udc47\\nhttps:\\/\\/t.co\\/VptujTcWXo\\n\\n#SupremeCourt\",\"1\":\"Lagos commercial drivers protest the high rate of extortion by \\\"agberos\\\"\\nIt's just the beginning \\ud83d\\ude02\\n\\nAgberos \\\"Yoruba Ronu\\\"\\\"Emeka Ihedioha\\\"#SupremeCourt https:\\/\\/t.co\\/1i6XkIeEv2\",\"2\":\"Who can explain what just happened?\\n\\n#SupremeCourt Portable Ihedioha Snoring https:\\/\\/t.co\\/MAPoVjP3MK\",\"3\":\"Five (5) Countries That Nigerians Can Visit Without Visa\\nhttps:\\/\\/t.co\\/SYV9a6tFk7\\n#Messi\\ud80c\\udcf5 #whoiswase #TinubuTheDrugLord #tiktokdown #BADSOME #SamsungGalaxyA34 #SupremeCourt\",\"4\":\"*Liberty Lands Lahore: Discount on Installments | Should We Avail This Offer or Not?*\\n\\nhttps:\\/\\/t.co\\/EmvfbfL2nj\\n\\n#SupremeCourt\",\"5\":\"I am proud to have been appointed as a new expert approved by the French #SupremeCourt and thoroughly enjoyed meeting the other #experts nominated on Monday.\\n\\nIn the first photo, my hand is placed on Saint Louis in the French Supreme Court, which is a symbol of luck.\",\"6\":\"#DYChandrachud is this the new low of #justice ? Why shouldn\\u2019t #SupremeCourt take #SuoMoto notice of such patently illegal judgement issued by malicious judges.\",\"7\":\"To all the teams participating in Asia Cup 2023, please read this. In Pakistan, due to security issues, elections are getting delayed. So, better avoid any nasty incident. \\n@BCBtigers @IslandCricket @ACBofficials \\n#Supreme_Court_Of_Pakistan \\n#SupremeCourt \\n#\\u0639\\u062f\\u0644\\u06cc\\u06c1_\\u06a9\\u06cc_\\u062f\\u0634\\u0645\\u0646_\\u0646_\\u0644\\u06cc\\u06af\",\"8\":\"#TakeAllThemToCourt\\n#INEConFire\\n#PO177606\\n\\n\\ud83d\\udea8 Fire \\ud83d\\udd25\\ud83d\\udd25\\ud83d\\udd25\\ud83d\\udd25\\ud83d\\udd25\\ud83d\\udd25 is coming and it's Interesting\\n\\nThis is the best law suit in 2023. \\nTake all of them to court for the broad daylight brutal rigging\\n\\n#SupremeCourt\\n#whoiswase\\n#potable https:\\/\\/t.co\\/UPX44xs8D0\",\"9\":\"You Toast  her, she says you're not her type! And you still sub for her, send her hair Money join .\\ud83e\\udd28 Are you Delibrately Mad or your village People started following you on Instagram. !!\\n\\nAgberos Yoruba Ronu #SupremeCourt  Akpabio Lagos island Bola Tinubu Balogun snoring 71yrs\",\"10\":\"\\u25b6\\ufe0fMamata Banerjee's 'clean BJP' jibe\\n\\u25b6\\ufe0f#PMModi's democracy retort\\n\\u25b6\\ufe0fRaGa to walk a new yatra\\n\\u25b6\\ufe0f#SupremeCourt says 'mind your tongue'\\n\\u25b6\\ufe0fAAP's national dreams take a hit\\n\\u25b6\\ufe0fDon't worry! #UPI will remain free\\n\\nWatch #NationTonight with @NivedhanaPrabhu at 9 PM https:\\/\\/t.co\\/HL3Lgg8V4P\",\"11\":\"Vacancy At Business Day Newspaper\\n-\\n\\n#SupremeCourt I Agberos I Babcock I Akpabio I EFCC I 71 yrs I Asiwaju Bola Ahmed Tinubu I Foluke Daramola I Dayo Israel I Certificate of Return https:\\/\\/t.co\\/60P2JVsnMi\",\"12\":\"Mc oluomo yoruba agbero's who are not even indigenes of Lagos are the ones trying to destroy Lagos, but they will find a way to blame Igbos for it \\n\\n#SupremeCourt  #TinubuForPrison\",\"13\":\"Nation with #Supreme_Court_Of_Pakistan #SupremeCourt\",\"14\":\"\\\"The corrupts have come together on one stage\\\" \\n\\nDon't know who has stopped @narendramodi to take #JPC \\n\\n#PoochtaHaiIndia\\n#SupremeCourt #KarnatakaElections2023\",\"15\":\"Canadian Pioneers promoting Pi Network and supporting the GCV \\ud83d\\udd25\\u26a1\\ud83d\\udca5\\ud83d\\udc4a\\ud83d\\ude80\\n\\n#PiNewsUpdates #Pioneers #PiNetwork Payet Scotland #SupremeCourt Cazorla Xavi https:\\/\\/t.co\\/M6a7G4y72S\",\"16\":\"Honestly I feel sorry for all those #XRPHolders who aren't holding $BTC &amp; think their \\\"#cryptocurrency\\\" is gonna moon. Even if the\\n#SupremeCourt sides in favor of #Ripple it's still centralized. I do hope they at least make their 15 cents tho. They've waited long enough for that.\",\"17\":\"Challenge accepted \\u2764\\ufe0f\\u2764\\ufe0f\\u2764\\ufe0f #JHOPE #SupremeCourt #WelcomeINTO1toThailand https:\\/\\/t.co\\/qTuY4ZmqxJ\",\"18\":\"Nigeria's DSS Plots To Arrest Whistleblower, Vicky Ogbebor Who Shared Video Of Electoral Materials Allegedly Destroyed By Governor Obaseki - Sahara Reporters\\nhttps:\\/\\/t.co\\/urqAStus84\\n\\nJohn Wick Argentina Ronaldo #SupremeCourt Lautaro Ansu Fati  Alex Ferguson #TinubuTheDrugLord\",\"19\":\"#SupremeCourt #whoiswase\\n#tiktokdown #potable\\n\\nThis is the best law suit in 2023. \\nTake all of them to court for the broad daylight brutal rigging https:\\/\\/t.co\\/tAiPyaNBmO\"},\"language\":{\"0\":\"en\",\"1\":\"en\",\"2\":\"en\",\"3\":\"en\",\"4\":\"en\",\"5\":\"en\",\"6\":\"en\",\"7\":\"en\",\"8\":\"en\",\"9\":\"en\",\"10\":\"en\",\"11\":\"en\",\"12\":\"en\",\"13\":\"en\",\"14\":\"en\",\"15\":\"en\",\"16\":\"en\",\"17\":\"en\",\"18\":\"en\",\"19\":\"en\"},\"mentions\":{\"0\":null,\"1\":null,\"2\":null,\"3\":null,\"4\":null,\"5\":null,\"6\":null,\"7\":\"[User(username='BCBtigers', id=316577087, displayname='Bangladesh Cricket', rawDescription=None, renderedDescription=None, descriptionLinks=None, verified=None, created=None, followersCount=None, friendsCount=None, statusesCount=None, favouritesCount=None, listedCount=None, mediaCount=None, location=None, protected=None, link=None, profileImageUrl=None, profileBannerUrl=None, label=None), User(username='IslandCricket', id=16077698, displayname='Island Cricket', rawDescription=None, renderedDescription=None, descriptionLinks=None, verified=None, created=None, followersCount=None, friendsCount=None, statusesCount=None, favouritesCount=None, listedCount=None, mediaCount=None, location=None, protected=None, link=None, profileImageUrl=None, profileBannerUrl=None, label=None), User(username='ACBofficials', id=141175770, displayname='Afghanistan Cricket Board', rawDescription=None, renderedDescription=None, descriptionLinks=None, verified=None, created=None, followersCount=None, friendsCount=None, statusesCount=None, favouritesCount=None, listedCount=None, mediaCount=None, location=None, protected=None, link=None, profileImageUrl=None, profileBannerUrl=None, label=None)]\",\"8\":null,\"9\":null,\"10\":\"[User(username='NivedhanaPrabhu', id=110782419, displayname='Nivedhana Prabhu', rawDescription=None, renderedDescription=None, descriptionLinks=None, verified=None, created=None, followersCount=None, friendsCount=None, statusesCount=None, favouritesCount=None, listedCount=None, mediaCount=None, location=None, protected=None, link=None, profileImageUrl=None, profileBannerUrl=None, label=None)]\",\"11\":null,\"12\":null,\"13\":null,\"14\":\"[User(username='narendramodi', id=18839785, displayname='Narendra Modi', rawDescription=None, renderedDescription=None, descriptionLinks=None, verified=None, created=None, followersCount=None, friendsCount=None, statusesCount=None, favouritesCount=None, listedCount=None, mediaCount=None, location=None, protected=None, link=None, profileImageUrl=None, profileBannerUrl=None, label=None)]\",\"15\":null,\"16\":null,\"17\":null,\"18\":null,\"19\":null},\"urls\":{\"0\":\"[TextLink(text='youtu.be\\/lqusnVmXyws', url='https:\\/\\/youtu.be\\/lqusnVmXyws', tcourl='https:\\/\\/t.co\\/VptujTcWXo', indices=(93, 116))]\",\"1\":null,\"2\":null,\"3\":\"[TextLink(text='naijastrap.com.ng\\/2023\\/03\\/five-5\\u2026', url='https:\\/\\/www.naijastrap.com.ng\\/2023\\/03\\/five-5-countries-that-nigerians-can.html', tcourl='https:\\/\\/t.co\\/SYV9a6tFk7', indices=(57, 80))]\",\"4\":\"[TextLink(text='youtu.be\\/9VLkiD_zhpU', url='https:\\/\\/youtu.be\\/9VLkiD_zhpU', tcourl='https:\\/\\/t.co\\/EmvfbfL2nj', indices=(87, 110))]\",\"5\":null,\"6\":null,\"7\":null,\"8\":null,\"9\":null,\"10\":null,\"11\":null,\"12\":null,\"13\":null,\"14\":null,\"15\":null,\"16\":null,\"17\":null,\"18\":\"[TextLink(text='wp.me\\/pe5Ytm-2bP', url='https:\\/\\/wp.me\\/pe5Ytm-2bP', tcourl='https:\\/\\/t.co\\/urqAStus84', indices=(158, 181))]\",\"19\":null},\"photos\":{\"0\":null,\"1\":\"[Photo(previewUrl='https:\\/\\/pbs.twimg.com\\/media\\/FsZaJbrWwAE4eG8?format=jpg&name=small', fullUrl='https:\\/\\/pbs.twimg.com\\/media\\/FsZaJbrWwAE4eG8?format=jpg&name=orig', altText=None)]\",\"2\":\"[Video(thumbnailUrl='https:\\/\\/pbs.twimg.com\\/ext_tw_video_thumb\\/1641098121861124097\\/pu\\/img\\/LZ_4EEwqHvomKMHi.jpg', variants=[VideoVariant(url='https:\\/\\/video.twimg.com\\/ext_tw_video\\/1641098121861124097\\/pu\\/vid\\/420x746\\/l_IpbIXgy7fDLVej.mp4?tag=12', contentType='video\\/mp4', bitrate=950000), VideoVariant(url='https:\\/\\/video.twimg.com\\/ext_tw_video\\/1641098121861124097\\/pu\\/pl\\/MJ9ejQJGvbELLupk.m3u8?tag=12&container=fmp4', contentType='application\\/x-mpegURL', bitrate=None), VideoVariant(url='https:\\/\\/video.twimg.com\\/ext_tw_video\\/1641098121861124097\\/pu\\/vid\\/320x568\\/wL9mtpWaFX8_FvJx.mp4?tag=12', contentType='video\\/mp4', bitrate=632000)], duration=14.999, views=0, altText=None)]\",\"3\":null,\"4\":null,\"5\":null,\"6\":null,\"7\":null,\"8\":\"[Photo(previewUrl='https:\\/\\/pbs.twimg.com\\/media\\/FsZZlPdXoAQyh5e?format=jpg&name=small', fullUrl='https:\\/\\/pbs.twimg.com\\/media\\/FsZZlPdXoAQyh5e?format=jpg&name=orig', altText=None)]\",\"9\":null,\"10\":\"[Photo(previewUrl='https:\\/\\/pbs.twimg.com\\/media\\/FsZYuYxaYAEs-XU?format=jpg&name=small', fullUrl='https:\\/\\/pbs.twimg.com\\/media\\/FsZYuYxaYAEs-XU?format=jpg&name=orig', altText=None), Photo(previewUrl='https:\\/\\/pbs.twimg.com\\/media\\/FsZZC1eacAAc_9p?format=jpg&name=small', fullUrl='https:\\/\\/pbs.twimg.com\\/media\\/FsZZC1eacAAc_9p?format=jpg&name=orig', altText=None), Photo(previewUrl='https:\\/\\/pbs.twimg.com\\/media\\/FsZZIYYaQAA19my?format=jpg&name=small', fullUrl='https:\\/\\/pbs.twimg.com\\/media\\/FsZZIYYaQAA19my?format=jpg&name=orig', altText=None), Photo(previewUrl='https:\\/\\/pbs.twimg.com\\/media\\/FsZZRLSaEAA6imJ?format=jpg&name=small', fullUrl='https:\\/\\/pbs.twimg.com\\/media\\/FsZZRLSaEAA6imJ?format=jpg&name=orig', altText=None)]\",\"11\":\"[Photo(previewUrl='https:\\/\\/pbs.twimg.com\\/media\\/FsZYu_yXwAMX8BA?format=jpg&name=small', fullUrl='https:\\/\\/pbs.twimg.com\\/media\\/FsZYu_yXwAMX8BA?format=jpg&name=orig', altText=None)]\",\"12\":null,\"13\":null,\"14\":null,\"15\":\"[Video(thumbnailUrl='https:\\/\\/pbs.twimg.com\\/ext_tw_video_thumb\\/1641096788978327554\\/pu\\/img\\/8oXMPDPjGpwpBH3C.jpg', variants=[VideoVariant(url='https:\\/\\/video.twimg.com\\/ext_tw_video\\/1641096788978327554\\/pu\\/pl\\/rDTqfAMrdy7bFCyE.m3u8?tag=12&container=fmp4', contentType='application\\/x-mpegURL', bitrate=None), VideoVariant(url='https:\\/\\/video.twimg.com\\/ext_tw_video\\/1641096788978327554\\/pu\\/vid\\/640x360\\/wrHLBZzoKyNPLv7T.mp4?tag=12', contentType='video\\/mp4', bitrate=832000), VideoVariant(url='https:\\/\\/video.twimg.com\\/ext_tw_video\\/1641096788978327554\\/pu\\/vid\\/480x270\\/hgLR7JoAUHgkpnJz.mp4?tag=12', contentType='video\\/mp4', bitrate=256000), VideoVariant(url='https:\\/\\/video.twimg.com\\/ext_tw_video\\/1641096788978327554\\/pu\\/vid\\/1280x720\\/hqL0NS5gqD3KzWxp.mp4?tag=12', contentType='video\\/mp4', bitrate=2176000)], duration=14.744, views=30, altText=None)]\",\"16\":null,\"17\":\"[Video(thumbnailUrl='https:\\/\\/pbs.twimg.com\\/ext_tw_video_thumb\\/1641096368478355457\\/pu\\/img\\/__UvQ-kOMqEJwgcm.jpg', variants=[VideoVariant(url='https:\\/\\/video.twimg.com\\/ext_tw_video\\/1641096368478355457\\/pu\\/vid\\/320x568\\/ibbJuj09fplm9BrG.mp4?tag=12', contentType='video\\/mp4', bitrate=632000), VideoVariant(url='https:\\/\\/video.twimg.com\\/ext_tw_video\\/1641096368478355457\\/pu\\/vid\\/540x960\\/gR28K4D0W_fEyxwF.mp4?tag=12', contentType='video\\/mp4', bitrate=2176000), VideoVariant(url='https:\\/\\/video.twimg.com\\/ext_tw_video\\/1641096368478355457\\/pu\\/pl\\/fcm3pjS5YSp-yOML.m3u8?tag=12&container=fmp4', contentType='application\\/x-mpegURL', bitrate=None), VideoVariant(url='https:\\/\\/video.twimg.com\\/ext_tw_video\\/1641096368478355457\\/pu\\/vid\\/480x852\\/AhZ7Qsp345Y__-jl.mp4?tag=12', contentType='video\\/mp4', bitrate=950000)], duration=15.033, views=154, altText=None)]\",\"18\":null,\"19\":\"[Photo(previewUrl='https:\\/\\/pbs.twimg.com\\/media\\/FsZXxsEXwAMrTBX?format=jpg&name=small', fullUrl='https:\\/\\/pbs.twimg.com\\/media\\/FsZXxsEXwAMrTBX?format=jpg&name=orig', altText=None)]\"},\"replies_count\":{\"0\":0,\"1\":0,\"2\":0,\"3\":0,\"4\":0,\"5\":2,\"6\":0,\"7\":0,\"8\":0,\"9\":0,\"10\":0,\"11\":1,\"12\":0,\"13\":0,\"14\":0,\"15\":1,\"16\":1,\"17\":0,\"18\":1,\"19\":0},\"retweets_count\":{\"0\":0,\"1\":0,\"2\":0,\"3\":0,\"4\":0,\"5\":0,\"6\":0,\"7\":0,\"8\":0,\"9\":0,\"10\":0,\"11\":1,\"12\":0,\"13\":0,\"14\":0,\"15\":0,\"16\":0,\"17\":0,\"18\":0,\"19\":0},\"likes_count\":{\"0\":0,\"1\":0,\"2\":0,\"3\":0,\"4\":0,\"5\":0,\"6\":0,\"7\":0,\"8\":0,\"9\":0,\"10\":0,\"11\":1,\"12\":0,\"13\":0,\"14\":0,\"15\":6,\"16\":0,\"17\":0,\"18\":0,\"19\":0},\"hashtags\":{\"0\":\"['SupremeCourt']\",\"1\":\"['SupremeCourt']\",\"2\":\"['SupremeCourt']\",\"3\":\"['Messi\\ud80c\\udcf5', 'whoiswase', 'TinubuTheDrugLord', 'tiktokdown', 'BADSOME', 'SamsungGalaxyA34', 'SupremeCourt']\",\"4\":\"['SupremeCourt']\",\"5\":\"['SupremeCourt', 'experts']\",\"6\":\"['DYChandrachud', 'justice', 'SupremeCourt', 'SuoMoto']\",\"7\":\"['Supreme_Court_Of_Pakistan', 'SupremeCourt', '\\u0639\\u062f\\u0644\\u06cc\\u06c1_\\u06a9\\u06cc_\\u062f\\u0634\\u0645\\u0646_\\u0646_\\u0644\\u06cc\\u06af']\",\"8\":\"['TakeAllThemToCourt', 'INEConFire', 'PO177606', 'SupremeCourt', 'whoiswase', 'potable']\",\"9\":\"['SupremeCourt']\",\"10\":\"['PMModi', 'SupremeCourt', 'UPI', 'NationTonight']\",\"11\":\"['SupremeCourt']\",\"12\":\"['SupremeCourt', 'TinubuForPrison']\",\"13\":\"['Supreme_Court_Of_Pakistan', 'SupremeCourt']\",\"14\":\"['JPC', 'PoochtaHaiIndia', 'SupremeCourt', 'KarnatakaElections2023']\",\"15\":\"['PiNewsUpdates', 'Pioneers', 'PiNetwork', 'SupremeCourt']\",\"16\":\"['XRPHolders', 'cryptocurrency', 'SupremeCourt', 'Ripple']\",\"17\":\"['JHOPE', 'SupremeCourt', 'WelcomeINTO1toThailand']\",\"18\":\"['SupremeCourt', 'TinubuTheDrugLord']\",\"19\":\"['SupremeCourt', 'whoiswase', 'tiktokdown', 'potable']\"},\"cashtags\":{\"0\":null,\"1\":null,\"2\":null,\"3\":null,\"4\":null,\"5\":null,\"6\":null,\"7\":null,\"8\":null,\"9\":null,\"10\":null,\"11\":null,\"12\":null,\"13\":null,\"14\":null,\"15\":null,\"16\":\"['BTC']\",\"17\":null,\"18\":null,\"19\":null},\"source\":{\"0\":\"<a href=\\\"http:\\/\\/twitter.com\\/download\\/android\\\" rel=\\\"nofollow\\\">Twitter for Android<\\/a>\",\"1\":\"<a href=\\\"http:\\/\\/twitter.com\\/download\\/android\\\" rel=\\\"nofollow\\\">Twitter for Android<\\/a>\",\"2\":\"<a href=\\\"http:\\/\\/twitter.com\\/download\\/android\\\" rel=\\\"nofollow\\\">Twitter for Android<\\/a>\",\"3\":\"<a href=\\\"http:\\/\\/twitter.com\\/download\\/android\\\" rel=\\\"nofollow\\\">Twitter for Android<\\/a>\",\"4\":\"<a href=\\\"http:\\/\\/twitter.com\\/download\\/android\\\" rel=\\\"nofollow\\\">Twitter for Android<\\/a>\",\"5\":\"<a href=\\\"https:\\/\\/mobile.twitter.com\\\" rel=\\\"nofollow\\\">Twitter Web App<\\/a>\",\"6\":\"<a href=\\\"http:\\/\\/twitter.com\\/download\\/iphone\\\" rel=\\\"nofollow\\\">Twitter for iPhone<\\/a>\",\"7\":\"<a href=\\\"http:\\/\\/twitter.com\\/download\\/android\\\" rel=\\\"nofollow\\\">Twitter for Android<\\/a>\",\"8\":\"<a href=\\\"http:\\/\\/twitter.com\\/download\\/android\\\" rel=\\\"nofollow\\\">Twitter for Android<\\/a>\",\"9\":\"<a href=\\\"https:\\/\\/mobile.twitter.com\\\" rel=\\\"nofollow\\\">Twitter Web App<\\/a>\",\"10\":\"<a href=\\\"https:\\/\\/mobile.twitter.com\\\" rel=\\\"nofollow\\\">Twitter Web App<\\/a>\",\"11\":\"<a href=\\\"https:\\/\\/mobile.twitter.com\\\" rel=\\\"nofollow\\\">Twitter Web App<\\/a>\",\"12\":\"<a href=\\\"http:\\/\\/twitter.com\\/download\\/android\\\" rel=\\\"nofollow\\\">Twitter for Android<\\/a>\",\"13\":\"<a href=\\\"http:\\/\\/twitter.com\\/download\\/iphone\\\" rel=\\\"nofollow\\\">Twitter for iPhone<\\/a>\",\"14\":\"<a href=\\\"https:\\/\\/mobile.twitter.com\\\" rel=\\\"nofollow\\\">Twitter Web App<\\/a>\",\"15\":\"<a href=\\\"http:\\/\\/twitter.com\\/download\\/android\\\" rel=\\\"nofollow\\\">Twitter for Android<\\/a>\",\"16\":\"<a href=\\\"https:\\/\\/mobile.twitter.com\\\" rel=\\\"nofollow\\\">Twitter Web App<\\/a>\",\"17\":\"<a href=\\\"http:\\/\\/twitter.com\\/download\\/iphone\\\" rel=\\\"nofollow\\\">Twitter for iPhone<\\/a>\",\"18\":\"<a href=\\\"https:\\/\\/mobile.twitter.com\\\" rel=\\\"nofollow\\\">Twitter Web App<\\/a>\",\"19\":\"<a href=\\\"http:\\/\\/twitter.com\\/download\\/android\\\" rel=\\\"nofollow\\\">Twitter for Android<\\/a>\"},\"retweet\":{\"0\":null,\"1\":null,\"2\":null,\"3\":null,\"4\":null,\"5\":null,\"6\":null,\"7\":null,\"8\":null,\"9\":null,\"10\":null,\"11\":null,\"12\":null,\"13\":null,\"14\":null,\"15\":null,\"16\":null,\"17\":null,\"18\":null,\"19\":null},\"quote_url\":{\"0\":null,\"1\":null,\"2\":null,\"3\":null,\"4\":null,\"5\":null,\"6\":\"https:\\/\\/twitter.com\\/Iyervval\\/status\\/1641045608034361346\",\"7\":\"https:\\/\\/twitter.com\\/dawn_com\\/status\\/1640966518908538883\",\"8\":null,\"9\":null,\"10\":null,\"11\":null,\"12\":null,\"13\":null,\"14\":null,\"15\":null,\"16\":null,\"17\":null,\"18\":null,\"19\":null},\"reply_to\":{\"0\":null,\"1\":null,\"2\":null,\"3\":null,\"4\":null,\"5\":null,\"6\":null,\"7\":null,\"8\":null,\"9\":null,\"10\":null,\"11\":null,\"12\":null,\"13\":null,\"14\":null,\"15\":null,\"16\":null,\"17\":null,\"18\":null,\"19\":null},\"reply_to_id\":{\"0\":null,\"1\":null,\"2\":null,\"3\":null,\"4\":null,\"5\":null,\"6\":null,\"7\":null,\"8\":null,\"9\":null,\"10\":null,\"11\":null,\"12\":null,\"13\":null,\"14\":null,\"15\":null,\"16\":null,\"17\":null,\"18\":null,\"19\":null},\"view_count\":{\"0\":null,\"1\":null,\"2\":null,\"3\":1.0,\"4\":18.0,\"5\":25.0,\"6\":19.0,\"7\":31.0,\"8\":31.0,\"9\":49.0,\"10\":83.0,\"11\":189.0,\"12\":38.0,\"13\":42.0,\"14\":46.0,\"15\":125.0,\"16\":106.0,\"17\":534.0,\"18\":115.0,\"19\":114.0},\"media_tweets\":{\"0\":8,\"1\":8,\"2\":8,\"3\":8,\"4\":8,\"5\":8,\"6\":8,\"7\":8,\"8\":8,\"9\":8,\"10\":8,\"11\":8,\"12\":8,\"13\":8,\"14\":8,\"15\":8,\"16\":8,\"17\":8,\"18\":8,\"19\":8},\"text_tweets\":{\"0\":12,\"1\":12,\"2\":12,\"3\":12,\"4\":12,\"5\":12,\"6\":12,\"7\":12,\"8\":12,\"9\":12,\"10\":12,\"11\":12,\"12\":12,\"13\":12,\"14\":12,\"15\":12,\"16\":12,\"17\":12,\"18\":12,\"19\":12},\"number_max_liked_tweets\":{\"0\":15,\"1\":11,\"2\":0,\"3\":1,\"4\":18,\"5\":17,\"6\":16,\"7\":14,\"8\":13,\"9\":12,\"10\":10,\"11\":9,\"12\":8,\"13\":7,\"14\":6,\"15\":5,\"16\":4,\"17\":3,\"18\":2,\"19\":19},\"max_liked_tweets\":{\"0\":\"Canadian Pioneers promoting Pi Network and supporting the GCV \\ud83d\\udd25\\u26a1\\ud83d\\udca5\\ud83d\\udc4a\\ud83d\\ude80\\n\\n#PiNewsUpdates #Pioneers #PiNetwork Payet Scotland #SupremeCourt Cazorla Xavi https:\\/\\/t.co\\/M6a7G4y72S\",\"1\":\"Vacancy At Business Day Newspaper\\n-\\n\\n#SupremeCourt I Agberos I Babcock I Akpabio I EFCC I 71 yrs I Asiwaju Bola Ahmed Tinubu I Foluke Daramola I Dayo Israel I Certificate of Return https:\\/\\/t.co\\/60P2JVsnMi\",\"2\":\"Live broadcasts of the court proceeding in Nigeria for Peter Obi petition. \\nClick to watch \\ud83d\\udc47\\nhttps:\\/\\/t.co\\/VptujTcWXo\\n\\n#SupremeCourt\",\"3\":\"Lagos commercial drivers protest the high rate of extortion by \\\"agberos\\\"\\nIt's just the beginning \\ud83d\\ude02\\n\\nAgberos \\\"Yoruba Ronu\\\"\\\"Emeka Ihedioha\\\"#SupremeCourt https:\\/\\/t.co\\/1i6XkIeEv2\",\"4\":\"Nigeria's DSS Plots To Arrest Whistleblower, Vicky Ogbebor Who Shared Video Of Electoral Materials Allegedly Destroyed By Governor Obaseki - Sahara Reporters\\nhttps:\\/\\/t.co\\/urqAStus84\\n\\nJohn Wick Argentina Ronaldo #SupremeCourt Lautaro Ansu Fati  Alex Ferguson #TinubuTheDrugLord\",\"5\":\"Challenge accepted \\u2764\\ufe0f\\u2764\\ufe0f\\u2764\\ufe0f #JHOPE #SupremeCourt #WelcomeINTO1toThailand https:\\/\\/t.co\\/qTuY4ZmqxJ\",\"6\":\"Honestly I feel sorry for all those #XRPHolders who aren't holding $BTC &amp; think their \\\"#cryptocurrency\\\" is gonna moon. Even if the\\n#SupremeCourt sides in favor of #Ripple it's still centralized. I do hope they at least make their 15 cents tho. They've waited long enough for that.\",\"7\":\"\\\"The corrupts have come together on one stage\\\" \\n\\nDon't know who has stopped @narendramodi to take #JPC \\n\\n#PoochtaHaiIndia\\n#SupremeCourt #KarnatakaElections2023\",\"8\":\"Nation with #Supreme_Court_Of_Pakistan #SupremeCourt\",\"9\":\"Mc oluomo yoruba agbero's who are not even indigenes of Lagos are the ones trying to destroy Lagos, but they will find a way to blame Igbos for it \\n\\n#SupremeCourt  #TinubuForPrison\",\"10\":\"\\u25b6\\ufe0fMamata Banerjee's 'clean BJP' jibe\\n\\u25b6\\ufe0f#PMModi's democracy retort\\n\\u25b6\\ufe0fRaGa to walk a new yatra\\n\\u25b6\\ufe0f#SupremeCourt says 'mind your tongue'\\n\\u25b6\\ufe0fAAP's national dreams take a hit\\n\\u25b6\\ufe0fDon't worry! #UPI will remain free\\n\\nWatch #NationTonight with @NivedhanaPrabhu at 9 PM https:\\/\\/t.co\\/HL3Lgg8V4P\",\"11\":\"You Toast  her, she says you're not her type! And you still sub for her, send her hair Money join .\\ud83e\\udd28 Are you Delibrately Mad or your village People started following you on Instagram. !!\\n\\nAgberos Yoruba Ronu #SupremeCourt  Akpabio Lagos island Bola Tinubu Balogun snoring 71yrs\",\"12\":\"#TakeAllThemToCourt\\n#INEConFire\\n#PO177606\\n\\n\\ud83d\\udea8 Fire \\ud83d\\udd25\\ud83d\\udd25\\ud83d\\udd25\\ud83d\\udd25\\ud83d\\udd25\\ud83d\\udd25 is coming and it's Interesting\\n\\nThis is the best law suit in 2023. \\nTake all of them to court for the broad daylight brutal rigging\\n\\n#SupremeCourt\\n#whoiswase\\n#potable https:\\/\\/t.co\\/UPX44xs8D0\",\"13\":\"To all the teams participating in Asia Cup 2023, please read this. In Pakistan, due to security issues, elections are getting delayed. So, better avoid any nasty incident. \\n@BCBtigers @IslandCricket @ACBofficials \\n#Supreme_Court_Of_Pakistan \\n#SupremeCourt \\n#\\u0639\\u062f\\u0644\\u06cc\\u06c1_\\u06a9\\u06cc_\\u062f\\u0634\\u0645\\u0646_\\u0646_\\u0644\\u06cc\\u06af\",\"14\":\"#DYChandrachud is this the new low of #justice ? Why shouldn\\u2019t #SupremeCourt take #SuoMoto notice of such patently illegal judgement issued by malicious judges.\",\"15\":\"I am proud to have been appointed as a new expert approved by the French #SupremeCourt and thoroughly enjoyed meeting the other #experts nominated on Monday.\\n\\nIn the first photo, my hand is placed on Saint Louis in the French Supreme Court, which is a symbol of luck.\",\"16\":\"*Liberty Lands Lahore: Discount on Installments | Should We Avail This Offer or Not?*\\n\\nhttps:\\/\\/t.co\\/EmvfbfL2nj\\n\\n#SupremeCourt\",\"17\":\"Five (5) Countries That Nigerians Can Visit Without Visa\\nhttps:\\/\\/t.co\\/SYV9a6tFk7\\n#Messi\\ud80c\\udcf5 #whoiswase #TinubuTheDrugLord #tiktokdown #BADSOME #SamsungGalaxyA34 #SupremeCourt\",\"18\":\"Who can explain what just happened?\\n\\n#SupremeCourt Portable Ihedioha Snoring https:\\/\\/t.co\\/MAPoVjP3MK\",\"19\":\"#SupremeCourt #whoiswase\\n#tiktokdown #potable\\n\\nThis is the best law suit in 2023. \\nTake all of them to court for the broad daylight brutal rigging https:\\/\\/t.co\\/tAiPyaNBmO\"},\"number_max_retweets_tweets\":{\"0\":11,\"1\":0,\"2\":1,\"3\":18,\"4\":17,\"5\":16,\"6\":15,\"7\":14,\"8\":13,\"9\":12,\"10\":10,\"11\":9,\"12\":8,\"13\":7,\"14\":6,\"15\":5,\"16\":4,\"17\":3,\"18\":2,\"19\":19},\"max_retweets_tweets\":{\"0\":\"Vacancy At Business Day Newspaper\\n-\\n\\n#SupremeCourt I Agberos I Babcock I Akpabio I EFCC I 71 yrs I Asiwaju Bola Ahmed Tinubu I Foluke Daramola I Dayo Israel I Certificate of Return https:\\/\\/t.co\\/60P2JVsnMi\",\"1\":\"Live broadcasts of the court proceeding in Nigeria for Peter Obi petition. \\nClick to watch \\ud83d\\udc47\\nhttps:\\/\\/t.co\\/VptujTcWXo\\n\\n#SupremeCourt\",\"2\":\"Lagos commercial drivers protest the high rate of extortion by \\\"agberos\\\"\\nIt's just the beginning \\ud83d\\ude02\\n\\nAgberos \\\"Yoruba Ronu\\\"\\\"Emeka Ihedioha\\\"#SupremeCourt https:\\/\\/t.co\\/1i6XkIeEv2\",\"3\":\"Nigeria's DSS Plots To Arrest Whistleblower, Vicky Ogbebor Who Shared Video Of Electoral Materials Allegedly Destroyed By Governor Obaseki - Sahara Reporters\\nhttps:\\/\\/t.co\\/urqAStus84\\n\\nJohn Wick Argentina Ronaldo #SupremeCourt Lautaro Ansu Fati  Alex Ferguson #TinubuTheDrugLord\",\"4\":\"Challenge accepted \\u2764\\ufe0f\\u2764\\ufe0f\\u2764\\ufe0f #JHOPE #SupremeCourt #WelcomeINTO1toThailand https:\\/\\/t.co\\/qTuY4ZmqxJ\",\"5\":\"Honestly I feel sorry for all those #XRPHolders who aren't holding $BTC &amp; think their \\\"#cryptocurrency\\\" is gonna moon. Even if the\\n#SupremeCourt sides in favor of #Ripple it's still centralized. I do hope they at least make their 15 cents tho. They've waited long enough for that.\",\"6\":\"Canadian Pioneers promoting Pi Network and supporting the GCV \\ud83d\\udd25\\u26a1\\ud83d\\udca5\\ud83d\\udc4a\\ud83d\\ude80\\n\\n#PiNewsUpdates #Pioneers #PiNetwork Payet Scotland #SupremeCourt Cazorla Xavi https:\\/\\/t.co\\/M6a7G4y72S\",\"7\":\"\\\"The corrupts have come together on one stage\\\" \\n\\nDon't know who has stopped @narendramodi to take #JPC \\n\\n#PoochtaHaiIndia\\n#SupremeCourt #KarnatakaElections2023\",\"8\":\"Nation with #Supreme_Court_Of_Pakistan #SupremeCourt\",\"9\":\"Mc oluomo yoruba agbero's who are not even indigenes of Lagos are the ones trying to destroy Lagos, but they will find a way to blame Igbos for it \\n\\n#SupremeCourt  #TinubuForPrison\",\"10\":\"\\u25b6\\ufe0fMamata Banerjee's 'clean BJP' jibe\\n\\u25b6\\ufe0f#PMModi's democracy retort\\n\\u25b6\\ufe0fRaGa to walk a new yatra\\n\\u25b6\\ufe0f#SupremeCourt says 'mind your tongue'\\n\\u25b6\\ufe0fAAP's national dreams take a hit\\n\\u25b6\\ufe0fDon't worry! #UPI will remain free\\n\\nWatch #NationTonight with @NivedhanaPrabhu at 9 PM https:\\/\\/t.co\\/HL3Lgg8V4P\",\"11\":\"You Toast  her, she says you're not her type! And you still sub for her, send her hair Money join .\\ud83e\\udd28 Are you Delibrately Mad or your village People started following you on Instagram. !!\\n\\nAgberos Yoruba Ronu #SupremeCourt  Akpabio Lagos island Bola Tinubu Balogun snoring 71yrs\",\"12\":\"#TakeAllThemToCourt\\n#INEConFire\\n#PO177606\\n\\n\\ud83d\\udea8 Fire \\ud83d\\udd25\\ud83d\\udd25\\ud83d\\udd25\\ud83d\\udd25\\ud83d\\udd25\\ud83d\\udd25 is coming and it's Interesting\\n\\nThis is the best law suit in 2023. \\nTake all of them to court for the broad daylight brutal rigging\\n\\n#SupremeCourt\\n#whoiswase\\n#potable https:\\/\\/t.co\\/UPX44xs8D0\",\"13\":\"To all the teams participating in Asia Cup 2023, please read this. In Pakistan, due to security issues, elections are getting delayed. So, better avoid any nasty incident. \\n@BCBtigers @IslandCricket @ACBofficials \\n#Supreme_Court_Of_Pakistan \\n#SupremeCourt \\n#\\u0639\\u062f\\u0644\\u06cc\\u06c1_\\u06a9\\u06cc_\\u062f\\u0634\\u0645\\u0646_\\u0646_\\u0644\\u06cc\\u06af\",\"14\":\"#DYChandrachud is this the new low of #justice ? Why shouldn\\u2019t #SupremeCourt take #SuoMoto notice of such patently illegal judgement issued by malicious judges.\",\"15\":\"I am proud to have been appointed as a new expert approved by the French #SupremeCourt and thoroughly enjoyed meeting the other #experts nominated on Monday.\\n\\nIn the first photo, my hand is placed on Saint Louis in the French Supreme Court, which is a symbol of luck.\",\"16\":\"*Liberty Lands Lahore: Discount on Installments | Should We Avail This Offer or Not?*\\n\\nhttps:\\/\\/t.co\\/EmvfbfL2nj\\n\\n#SupremeCourt\",\"17\":\"Five (5) Countries That Nigerians Can Visit Without Visa\\nhttps:\\/\\/t.co\\/SYV9a6tFk7\\n#Messi\\ud80c\\udcf5 #whoiswase #TinubuTheDrugLord #tiktokdown #BADSOME #SamsungGalaxyA34 #SupremeCourt\",\"18\":\"Who can explain what just happened?\\n\\n#SupremeCourt Portable Ihedioha Snoring https:\\/\\/t.co\\/MAPoVjP3MK\",\"19\":\"#SupremeCourt #whoiswase\\n#tiktokdown #potable\\n\\nThis is the best law suit in 2023. \\nTake all of them to court for the broad daylight brutal rigging https:\\/\\/t.co\\/tAiPyaNBmO\"},\"check_bot_human\":{\"0\":\"bot\\/human\",\"1\":\"bot\\/human\",\"2\":\"bot\\/human\",\"3\":\"bot\\/human\",\"4\":\"bot\\/human\",\"5\":\"bot\\/human\",\"6\":\"bot\\/human\",\"7\":\"bot\\/human\",\"8\":\"bot\\/human\",\"9\":\"bot\\/human\",\"10\":\"bot\\/human\",\"11\":\"bot\\/human\",\"12\":\"bot\\/human\",\"13\":\"bot\\/human\",\"14\":\"bot\\/human\",\"15\":\"bot\\/human\",\"16\":\"bot\\/human\",\"17\":\"bot\\/human\",\"18\":\"bot\\/human\",\"19\":\"bot\\/human\"}}\n"
          ]
        }
      ],
      "source": [
        "json_object = df2.to_json()\n",
        "\n",
        "print(json_object)\n"
      ]
    },
    {
      "cell_type": "code",
      "execution_count": 71,
      "metadata": {},
      "outputs": [],
      "source": [
        "import json\n",
        "from pathlib import Path\n",
        "\n",
        "# jsonobjc = json.dumps(json_object)\n",
        "# data_folder = Path(\"\")\n",
        "# file_to_open = data_folder / \"jsonobjtrend.json\"\n",
        "# file = open(file_to_open, \"w\")\n",
        "# file.write(jsonobjc)\n",
        "# file.close()\n",
        "\n",
        "if (json_object):\n",
        "    # Writing to json\n",
        "    data_folder = Path(\"\")\n",
        "    file_to_open = data_folder / \"jsonobjtrend.json\"\n",
        "    file = open(file_to_open, \"w\")\n",
        "    file.write(json_object)\n",
        "    file.close()\n"
      ]
    },
    {
      "cell_type": "code",
      "execution_count": 91,
      "metadata": {},
      "outputs": [
        {
          "name": "stdout",
          "output_type": "stream",
          "text": [
            "('princess_ara__', 'bot')\n",
            "('Realsamosky', 'bot')\n",
            "('montero4emirate', 'bot')\n",
            "('ObioOluebube', 'bot')\n",
            "('ptifamily', 'bot')\n",
            "('DreyfusLawFirm', 'bot')\n",
            "('OjhaaRajesh', 'bot')\n",
            "('qas_hayat', 'bot')\n",
            "('BlufCrazycomic', 'bot')\n",
            "('DrHamtab', 'bot')\n",
            "('MirrorNow', 'bot')\n",
            "('Standard_ngr', 'bot')\n",
            "('skybabym', 'bot')\n",
            "('apricot5_it', 'bot')\n",
            "('zahir_jafri', 'bot')\n",
            "('PiNewsUpdates', 'bot')\n",
            "('Clermont1', 'bot')\n",
            "('KenDicci1', 'bot')\n",
            "('ChocnewsC', 'bot')\n",
            "('BlufCrazycomic', 'bot')\n"
          ]
        }
      ],
      "source": [
        "# checking tweet made by bot accounts\n",
        "count=0\n",
        "for i in range(num_tweets):\n",
        "    username = df2.loc[i, 'username']\n",
        "    value = df2.loc[i, 'check_bot_human']\n",
        "\n",
        "    print(f\"{username, value}\")\n",
        "\n",
        "df3 = pd.read_csv(\"./test.csv\")\n",
        "\n",
        "# value = (df2.iloc[i]['username'])\n",
        "# if (df2['username'].isin([value]).any()):\n",
        "#     count1 = count1 + 1\n"
      ]
    },
    {
      "cell_type": "code",
      "execution_count": 113,
      "metadata": {},
      "outputs": [
        {
          "name": "stdout",
          "output_type": "stream",
          "text": [
            "no of tweet made by bot overall 20\n",
            "BlufCrazycomic\n",
            "2023-03-29 15:11:02+00:00\n",
            "bot number of df2 in first 1000 tweets 18\n",
            "start time is \n",
            "start time is  2023-03-29 15:11:02+00:00\n",
            "end time is  2023-03-29 17:11:02+00:00\n",
            "df2 in first 2 hours is : 20\n",
            "Unique account participation is : 19\n",
            "unique df2 is : 20\n",
            "\n",
            "Finding Acceleration.\n",
            "start time is  2023-03-29 15:11:02+00:00\n",
            "end time is  2023-03-29 16:11:02+00:00\n",
            "num of bot user  20\n",
            "df2 in first 1 hours is : 20\n",
            "end time is  2023-03-29 17:11:02+00:00\n",
            "num of bot user  0\n",
            "df2 in first 2 hours is : 0\n",
            "end time is  2023-03-29 18:11:02+00:00\n",
            "num of bot user  0\n",
            "df2 in first 3 hours is : 0\n",
            "end time is  2023-03-29 19:11:02+00:00\n",
            "num of bot user  0\n",
            "df2 in first 4 hours is : 0\n",
            "end time is  2023-03-29 20:11:02+00:00\n",
            "num of bot user  0\n",
            "df2 in first 5 hours is : 0\n",
            "end time is  2023-03-29 21:11:02+00:00\n",
            "num of bot user  0\n",
            "df2 in first 6 hours is : 0\n",
            "[20, 0, 0, 0, 0, 0]\n"
          ]
        }
      ],
      "source": [
        "\n",
        "# checking df2 made by bot accounts\n",
        "count = 0\n",
        "for i in range(num_tweets):\n",
        "   value = (df2['username'][i])\n",
        "   if (df3['username'].isin([value]).any()):\n",
        "       count = count+1\n",
        "\n",
        "print('no of tweet made by bot overall', count)\n",
        "\n",
        "# filter dataframe by time\n",
        "df2['date'] = pd.to_datetime(df2['date'], format='%Y-%m-%d %H:%M:%S%z')\n",
        "df2 = df2.sort_values(by='date')\n",
        "\n",
        "\n",
        "# access time filtered datafram index by index\n",
        "for i in range(1):\n",
        "    print(df2.iloc[i]['username'])\n",
        "    print(df2.iloc[i]['date'])\n",
        "\n",
        "# checkig ratio of bot in first 1000\n",
        "count1 = 0\n",
        "for i in range(18):\n",
        "   value = (df2.iloc[i]['username'])\n",
        "   if (df3['username'].isin([value]).any()):\n",
        "       count1 = count1 + 1\n",
        "\n",
        "print('bot number of df2 in first 1000 tweets', count1)\n",
        "\n",
        "\n",
        "#\n",
        "\n",
        "\n",
        "\n",
        "\n",
        "\n",
        "\n",
        "\n",
        "# finding df2 in first 2 hour\n",
        "print('start time is ')\n",
        "hcount = 0\n",
        "start_time = pd.to_datetime(df2.iloc[0]['date'], format='%H:%M:%S')\n",
        "print('start time is ', start_time)\n",
        "\n",
        "end_time = start_time + pd.Timedelta(hours=2)\n",
        "print('end time is ', end_time)\n",
        "\n",
        "\n",
        "hcount = len(df2[(df2['date'] >= start_time) & (df2['date'] < end_time)])\n",
        "print('df2 in first 2 hours is :', hcount)\n",
        "\n",
        "# # alternative finding df2 in first 2 hour\n",
        "# for i in range (3000):\n",
        "#     if(df2.iloc[i]['date']< end_time):\n",
        "#         hcount = hcount+1\n",
        "\n",
        "\n",
        "# print('df2 in first 2 hours is :',hcount);\n",
        "\n",
        "\n",
        "# unique account participation\n",
        "unique_account = df2['username'].nunique()\n",
        "print(\"Unique account participation is :\", unique_account)\n",
        "\n",
        "# unique message in trend\n",
        "unique_tweet = df2['tweet'].nunique()\n",
        "print('unique df2 is :', unique_tweet)\n",
        "\n",
        "# finding velocity of trend\n",
        "\n",
        "print('')\n",
        "print('Finding Acceleration.')\n",
        "start_time = pd.to_datetime(df2.iloc[0]['date'], format='%Y-%m-%d %H:%M:%S%z')\n",
        "print('start time is ', start_time)\n",
        "i = 1\n",
        "acceleration_list = []\n",
        "hour_list = []\n",
        "count_list = []\n",
        "merge_list = []\n",
        "for i in range(6):\n",
        "\n",
        "    end_time = start_time + pd.Timedelta(hours=1)\n",
        "    print('end time is ', end_time)\n",
        "\n",
        "    hcount = len(df2[(df2['date'] >= start_time) & (df2['date'] < end_time)])\n",
        "    # Create a boolean mask for df2s in the time range\n",
        "    time_mask = (df2['date'] >= start_time) & (df2['date'] < end_time)\n",
        "\n",
        "    # Select the user IDs of df2s in the time range\n",
        "    users_in_range = df2.loc[time_mask, 'username']\n",
        "\n",
        "    # Count the number of bot users in the time range\n",
        "    num_bot_users = users_in_range.isin(df3['username']).sum()\n",
        "    print('num of bot user ', num_bot_users)\n",
        "    print(\"df2 in first \" + str(i+1) + \" hours is :\", hcount)\n",
        "    count_list.append(hcount)\n",
        "    hour_list.append(i+1)\n",
        "    if (i == 0):\n",
        "        acceleration_list.append(hcount)\n",
        "    else:\n",
        "        acceleration_list.append(hcount - acceleration_list[i-1])\n",
        "    start_time = end_time\n",
        "\n",
        "# print(acceleration_list)\n",
        "print(count_list)\n"
      ]
    },
    {
      "cell_type": "code",
      "execution_count": null,
      "metadata": {},
      "outputs": [],
      "source": [
        "# unique accounts\n",
        "# unique messages\n",
        "# bot list by hour\n",
        "# human list by hour\n",
        "# ok."
      ]
    }
  ],
  "metadata": {
    "kernelspec": {
      "display_name": "Python 3",
      "language": "python",
      "name": "python3"
    },
    "language_info": {
      "codemirror_mode": {
        "name": "ipython",
        "version": 3
      },
      "file_extension": ".py",
      "mimetype": "text/x-python",
      "name": "python",
      "nbconvert_exporter": "python",
      "pygments_lexer": "ipython3",
      "version": "3.11.2"
    },
    "orig_nbformat": 4
  },
  "nbformat": 4,
  "nbformat_minor": 2
}
